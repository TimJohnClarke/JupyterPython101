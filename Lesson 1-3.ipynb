{
 "cells": [
  {
   "cell_type": "markdown",
   "id": "c489559e",
   "metadata": {},
   "source": [
    "## Table of Contents\n",
    "### * Lesson 1 - Fundamental Data Types\n",
    "### * Lesson 2 - Dictionaries\n",
    "### * Lesson 3 - Exploring Data"
   ]
  },
  {
   "cell_type": "markdown",
   "id": "65996519",
   "metadata": {},
   "source": [
    "# Lesson 1 - Fundamental Data Types \n",
    "## (Lists, Tuples and Sets)"
   ]
  },
  {
   "cell_type": "markdown",
   "id": "e2319016",
   "metadata": {},
   "source": [
    "# Lists"
   ]
  },
  {
   "cell_type": "markdown",
   "id": "a821949a",
   "metadata": {},
   "source": [
    "Lists are mutable, which means they can be changed. Lists use \"[ ]\" as their object representation."
   ]
  },
  {
   "cell_type": "code",
   "execution_count": 1,
   "id": "b7e6b5de",
   "metadata": {},
   "outputs": [
    {
     "name": "stdout",
     "output_type": "stream",
     "text": [
      "['apples', 'oranges', 'grapes']\n"
     ]
    }
   ],
   "source": [
    "fruit = [\"apples\", \"oranges\", \"grapes\"]\n",
    "print(fruit)"
   ]
  },
  {
   "cell_type": "code",
   "execution_count": 2,
   "id": "749cb8f9",
   "metadata": {},
   "outputs": [
    {
     "data": {
      "text/plain": [
       "list"
      ]
     },
     "execution_count": 2,
     "metadata": {},
     "output_type": "execute_result"
    }
   ],
   "source": [
    "type(fruit)"
   ]
  },
  {
   "cell_type": "markdown",
   "id": "83d82802",
   "metadata": {},
   "source": [
    "### .append() method"
   ]
  },
  {
   "cell_type": "code",
   "execution_count": 3,
   "id": "7dca0d11",
   "metadata": {},
   "outputs": [
    {
     "name": "stdout",
     "output_type": "stream",
     "text": [
      "['apples', 'oranges', 'grapes', 'kiwis']\n"
     ]
    }
   ],
   "source": [
    "fruit.append(\"kiwis\")\n",
    "print(fruit)"
   ]
  },
  {
   "cell_type": "markdown",
   "id": "a568b765",
   "metadata": {},
   "source": [
    "### .extend() method and \"+\""
   ]
  },
  {
   "cell_type": "code",
   "execution_count": 4,
   "id": "2f9ecf54",
   "metadata": {},
   "outputs": [
    {
     "name": "stdout",
     "output_type": "stream",
     "text": [
      "['apples', 'oranges', 'grapes', 'kiwis', 'cherries', 'grapefruits']\n"
     ]
    }
   ],
   "source": [
    "moreFruit = [\"cherries\", \"grapefruits\"]\n",
    "\n",
    "fruit.extend(moreFruit)\n",
    "print(fruit)"
   ]
  },
  {
   "cell_type": "code",
   "execution_count": 5,
   "id": "e9f68a57",
   "metadata": {},
   "outputs": [
    {
     "name": "stdout",
     "output_type": "stream",
     "text": [
      "['apples', 'oranges', 'grapes', 'kiwis', 'cherries', 'grapefruits', 'dragon fruits', 'passion fruits']\n"
     ]
    }
   ],
   "source": [
    "stillMoreFruit = [\"dragon fruits\", \"passion fruits\"]\n",
    "print(fruit + stillMoreFruit)"
   ]
  },
  {
   "cell_type": "code",
   "execution_count": 6,
   "id": "da9ff785",
   "metadata": {},
   "outputs": [
    {
     "name": "stdout",
     "output_type": "stream",
     "text": [
      "['apples', 'oranges', 'grapes', 'kiwis', 'cherries', 'grapefruits']\n"
     ]
    }
   ],
   "source": [
    "print(fruit)"
   ]
  },
  {
   "cell_type": "code",
   "execution_count": 7,
   "id": "ed1e61ed",
   "metadata": {},
   "outputs": [
    {
     "name": "stdout",
     "output_type": "stream",
     "text": [
      "['apples', 'oranges', 'grapes', 'kiwis', 'cherries', 'grapefruits', 'dragon fruits', 'passion fruits']\n"
     ]
    }
   ],
   "source": [
    "fruit_basket = fruit + stillMoreFruit\n",
    "print(fruit_basket)"
   ]
  },
  {
   "cell_type": "code",
   "execution_count": 8,
   "id": "96ffcb99",
   "metadata": {},
   "outputs": [
    {
     "name": "stdout",
     "output_type": "stream",
     "text": [
      "['apples', 'oranges', 'grapes', 'kiwis', 'cherries', 'grapefruits', 'dragon fruits', 'passion fruits', 'plums']\n"
     ]
    }
   ],
   "source": [
    "fruit_basket.extend([\"plums\"])\n",
    "print(fruit_basket)"
   ]
  },
  {
   "cell_type": "markdown",
   "id": "22d6b886",
   "metadata": {},
   "source": [
    "### list \"slicing\" is important to know... "
   ]
  },
  {
   "cell_type": "code",
   "execution_count": 9,
   "id": "db6432a1",
   "metadata": {},
   "outputs": [
    {
     "name": "stdout",
     "output_type": "stream",
     "text": [
      "apples\n"
     ]
    }
   ],
   "source": [
    "print(fruit_basket[0])"
   ]
  },
  {
   "cell_type": "code",
   "execution_count": 10,
   "id": "8a4b06f4",
   "metadata": {},
   "outputs": [
    {
     "name": "stdout",
     "output_type": "stream",
     "text": [
      "plums\n"
     ]
    }
   ],
   "source": [
    "print(fruit_basket[-1])"
   ]
  },
  {
   "cell_type": "code",
   "execution_count": 11,
   "id": "6ab3c31b",
   "metadata": {},
   "outputs": [
    {
     "name": "stdout",
     "output_type": "stream",
     "text": [
      "['apples', 'oranges', 'grapes', 'kiwis', 'cherries']\n"
     ]
    }
   ],
   "source": [
    "print(fruit_basket[0:5])"
   ]
  },
  {
   "cell_type": "code",
   "execution_count": 12,
   "id": "c9ee6296",
   "metadata": {},
   "outputs": [
    {
     "name": "stdout",
     "output_type": "stream",
     "text": [
      "['apples', 'oranges', 'grapes', 'kiwis', 'cherries']\n"
     ]
    }
   ],
   "source": [
    "print(fruit_basket[:5])"
   ]
  },
  {
   "cell_type": "code",
   "execution_count": 13,
   "id": "f275ef30",
   "metadata": {},
   "outputs": [
    {
     "name": "stdout",
     "output_type": "stream",
     "text": [
      "['grapes', 'kiwis', 'cherries', 'grapefruits', 'dragon fruits']\n"
     ]
    }
   ],
   "source": [
    "print(fruit_basket[2:7])"
   ]
  },
  {
   "cell_type": "code",
   "execution_count": 14,
   "id": "2ce05990",
   "metadata": {},
   "outputs": [
    {
     "name": "stdout",
     "output_type": "stream",
     "text": [
      "['dragon fruits', 'passion fruits', 'plums']\n"
     ]
    }
   ],
   "source": [
    "print(fruit_basket[-3:])"
   ]
  },
  {
   "cell_type": "markdown",
   "id": "c4822e01",
   "metadata": {},
   "source": [
    "### .index() and pop() method"
   ]
  },
  {
   "cell_type": "code",
   "execution_count": 15,
   "id": "c357c84c",
   "metadata": {},
   "outputs": [
    {
     "name": "stdout",
     "output_type": "stream",
     "text": [
      "6\n"
     ]
    }
   ],
   "source": [
    "df_index = fruit_basket.index(\"dragon fruits\")\n",
    "print(df_index)"
   ]
  },
  {
   "cell_type": "code",
   "execution_count": 16,
   "id": "1007c101",
   "metadata": {},
   "outputs": [
    {
     "name": "stdout",
     "output_type": "stream",
     "text": [
      "['apples', 'oranges', 'grapes', 'kiwis', 'cherries', 'grapefruits', 'passion fruits', 'plums']\n"
     ]
    }
   ],
   "source": [
    "fruit_basket.pop(df_index)\n",
    "print(fruit_basket)"
   ]
  },
  {
   "cell_type": "markdown",
   "id": "0055e5fe",
   "metadata": {},
   "source": [
    "### How to use sorted() function"
   ]
  },
  {
   "cell_type": "code",
   "execution_count": 17,
   "id": "4a36078b",
   "metadata": {},
   "outputs": [
    {
     "name": "stdout",
     "output_type": "stream",
     "text": [
      "apples\n",
      "cherries\n",
      "grapefruits\n",
      "grapes\n",
      "kiwis\n",
      "oranges\n",
      "passion fruits\n",
      "plums\n"
     ]
    }
   ],
   "source": [
    "for fruit in sorted(fruit_basket):\n",
    "    print(fruit)"
   ]
  },
  {
   "cell_type": "code",
   "execution_count": 18,
   "id": "6ce45a13",
   "metadata": {},
   "outputs": [
    {
     "name": "stdout",
     "output_type": "stream",
     "text": [
      "plums\n",
      "passion fruits\n",
      "oranges\n",
      "kiwis\n",
      "grapes\n",
      "grapefruits\n",
      "cherries\n",
      "apples\n"
     ]
    }
   ],
   "source": [
    "for fruit in sorted(fruit_basket, reverse=True):\n",
    "    print(fruit)"
   ]
  },
  {
   "cell_type": "markdown",
   "id": "917f436b",
   "metadata": {},
   "source": [
    "#### sorted() does not change the original order of the list"
   ]
  },
  {
   "cell_type": "code",
   "execution_count": 19,
   "id": "12c68ae6",
   "metadata": {},
   "outputs": [
    {
     "name": "stdout",
     "output_type": "stream",
     "text": [
      "apples\n",
      "oranges\n",
      "grapes\n",
      "kiwis\n",
      "cherries\n",
      "grapefruits\n",
      "passion fruits\n",
      "plums\n"
     ]
    }
   ],
   "source": [
    "for fruit in fruit_basket:\n",
    "    print(fruit)"
   ]
  },
  {
   "cell_type": "markdown",
   "id": "094adfe6",
   "metadata": {},
   "source": [
    "# Tuples"
   ]
  },
  {
   "cell_type": "markdown",
   "id": "67a19b99",
   "metadata": {},
   "source": [
    "Easier to process and more memory efficient than lists. Tuples are immutable. Tuples use \"( )\" as their object representation."
   ]
  },
  {
   "cell_type": "code",
   "execution_count": 20,
   "id": "668797b1",
   "metadata": {},
   "outputs": [
    {
     "name": "stdout",
     "output_type": "stream",
     "text": [
      "('happy', 'sad', 'angry', 'bored')\n"
     ]
    }
   ],
   "source": [
    "feelings = (\"happy\", \"sad\", \"angry\", \"bored\")\n",
    "print(feelings)"
   ]
  },
  {
   "cell_type": "code",
   "execution_count": 21,
   "id": "2d499f55",
   "metadata": {},
   "outputs": [
    {
     "data": {
      "text/plain": [
       "tuple"
      ]
     },
     "execution_count": 21,
     "metadata": {},
     "output_type": "execute_result"
    }
   ],
   "source": [
    "type(feelings)"
   ]
  },
  {
   "cell_type": "markdown",
   "id": "e11edd97",
   "metadata": {},
   "source": [
    "Let's create a second list that describes how we feel about each fruit in the fruit basket..."
   ]
  },
  {
   "cell_type": "code",
   "execution_count": 22,
   "id": "daed9e79",
   "metadata": {},
   "outputs": [],
   "source": [
    "fruit_opinion = [\n",
    "    \"Good\",\n",
    "    \"Good\",\n",
    "    \"Yummy\",\n",
    "    \"Wonderful\",\n",
    "    \"Fantastic\",\n",
    "    \"Awesome\",\n",
    "    \"Strange\",\n",
    "    \"Messy\",\n",
    "]"
   ]
  },
  {
   "cell_type": "markdown",
   "id": "6513f5ae",
   "metadata": {},
   "source": [
    "#### Zipping Tuples"
   ]
  },
  {
   "cell_type": "markdown",
   "id": "1c9121d2",
   "metadata": {},
   "source": [
    "Using zip() we can pair up the two lists: fruit_basket, fruit_opinion"
   ]
  },
  {
   "cell_type": "code",
   "execution_count": 23,
   "id": "ee00abc3",
   "metadata": {},
   "outputs": [],
   "source": [
    "fruit_info = zip(fruit_basket, fruit_opinion)"
   ]
  },
  {
   "cell_type": "code",
   "execution_count": 24,
   "id": "68302358",
   "metadata": {},
   "outputs": [
    {
     "name": "stdout",
     "output_type": "stream",
     "text": [
      "<zip object at 0x403b266a40>\n"
     ]
    }
   ],
   "source": [
    "print(fruit_info)"
   ]
  },
  {
   "cell_type": "markdown",
   "id": "0b5b4620",
   "metadata": {},
   "source": [
    "We needed to create a list out of the zip object in order to use it..."
   ]
  },
  {
   "cell_type": "code",
   "execution_count": 25,
   "id": "b47bd663",
   "metadata": {},
   "outputs": [
    {
     "name": "stdout",
     "output_type": "stream",
     "text": [
      "[('apples', 'Good'), ('oranges', 'Good'), ('grapes', 'Yummy'), ('kiwis', 'Wonderful'), ('cherries', 'Fantastic'), ('grapefruits', 'Awesome'), ('passion fruits', 'Strange'), ('plums', 'Messy')]\n"
     ]
    }
   ],
   "source": [
    "fruit_info = list(fruit_info)\n",
    "print(fruit_info)"
   ]
  },
  {
   "cell_type": "markdown",
   "id": "9c133abe",
   "metadata": {},
   "source": [
    "This looks like a list of Tuples, but is really an iterator... but let's not worry about that now"
   ]
  },
  {
   "cell_type": "markdown",
   "id": "e4553ce8",
   "metadata": {},
   "source": [
    " \n",
    "#### Unpacking Tuples"
   ]
  },
  {
   "cell_type": "markdown",
   "id": "f2f1e9bc",
   "metadata": {},
   "source": [
    "We can unpack our fruit_info this way..."
   ]
  },
  {
   "cell_type": "code",
   "execution_count": 26,
   "id": "d49a70e1",
   "metadata": {},
   "outputs": [
    {
     "name": "stdout",
     "output_type": "stream",
     "text": [
      "apples are Good\n"
     ]
    }
   ],
   "source": [
    "fruit_name, fruit_opinion = fruit_info[0]\n",
    "print(fruit_name + \" are \" + fruit_opinion)"
   ]
  },
  {
   "cell_type": "markdown",
   "id": "83a2ebb0",
   "metadata": {},
   "source": [
    "Unpacking is especially powerful in loops"
   ]
  },
  {
   "cell_type": "code",
   "execution_count": 27,
   "id": "95171550",
   "metadata": {},
   "outputs": [
    {
     "name": "stdout",
     "output_type": "stream",
     "text": [
      "apples are Good\n",
      "oranges are Good\n",
      "grapes are Yummy\n",
      "kiwis are Wonderful\n",
      "cherries are Fantastic\n",
      "grapefruits are Awesome\n",
      "passion fruits are Strange\n",
      "plums are Messy\n"
     ]
    }
   ],
   "source": [
    "for fruit_name, fruit_opinion in fruit_info:\n",
    "    print (fruit_name + \" are \" + fruit_opinion)"
   ]
  },
  {
   "cell_type": "markdown",
   "id": "9f51b468",
   "metadata": {},
   "source": [
    "Enumerate() is a useful method to get the index of a list"
   ]
  },
  {
   "cell_type": "code",
   "execution_count": 28,
   "id": "97b7d696",
   "metadata": {},
   "outputs": [
    {
     "name": "stdout",
     "output_type": "stream",
     "text": [
      "opinion #1: apples are Good\n",
      "opinion #2: oranges are Good\n",
      "opinion #3: grapes are Yummy\n",
      "opinion #4: kiwis are Wonderful\n",
      "opinion #5: cherries are Fantastic\n",
      "opinion #6: grapefruits are Awesome\n",
      "opinion #7: passion fruits are Strange\n",
      "opinion #8: plums are Messy\n"
     ]
    }
   ],
   "source": [
    "for idx, item in enumerate(fruit_info):\n",
    "    fruit_name, fruit_opinion = item\n",
    "    print ('opinion #{}: {} are {}'.format(idx+1, fruit_name, fruit_opinion))"
   ]
  },
  {
   "cell_type": "markdown",
   "id": "09dad50d",
   "metadata": {},
   "source": [
    "# Sets"
   ]
  },
  {
   "cell_type": "markdown",
   "id": "518b429e",
   "metadata": {},
   "source": [
    "Used to store unique data elements in an unordered fashion. Sets are mutable. Sets use \"{ }\" as their object representation.\n",
    "\n",
    "Create an empty set with x = set()\n",
    "x = {} will NOT create an empty set, it creates an empty dictionary\n",
    "\n",
    "A set is almost always created from a List.\n",
    "\n",
    "Let's create a list of fruit I have eaten this week..."
   ]
  },
  {
   "cell_type": "code",
   "execution_count": 29,
   "id": "d1e95950",
   "metadata": {},
   "outputs": [
    {
     "name": "stdout",
     "output_type": "stream",
     "text": [
      "['apple', 'kiwi', 'apple', 'grapes', 'cherries', 'kiwi', 'kiwi', 'kiwi']\n"
     ]
    }
   ],
   "source": [
    "fruit_eaten = [\"apple\", \"kiwi\", \"apple\", \"grapes\", \"cherries\", \"kiwi\", \"kiwi\", \"kiwi\"]\n",
    "\n",
    "print(fruit_eaten)"
   ]
  },
  {
   "cell_type": "code",
   "execution_count": 30,
   "id": "60e8f740",
   "metadata": {},
   "outputs": [
    {
     "name": "stdout",
     "output_type": "stream",
     "text": [
      "{'kiwi', 'apple', 'grapes', 'cherries'}\n"
     ]
    }
   ],
   "source": [
    "types_of_fruit_eaten = set(fruit_eaten)\n",
    "print(types_of_fruit_eaten)"
   ]
  },
  {
   "cell_type": "markdown",
   "id": "ba0b74dc",
   "metadata": {},
   "source": [
    "#### Modifying Sets with .add() and .update()"
   ]
  },
  {
   "cell_type": "code",
   "execution_count": 31,
   "id": "1acbf581",
   "metadata": {},
   "outputs": [
    {
     "name": "stdout",
     "output_type": "stream",
     "text": [
      "{'orange', 'kiwi', 'grapes', 'cherries', 'apple'}\n"
     ]
    }
   ],
   "source": [
    "types_of_fruit_eaten.add(\"orange\")\n",
    "print(types_of_fruit_eaten)"
   ]
  },
  {
   "cell_type": "code",
   "execution_count": 32,
   "id": "cda5a5b7",
   "metadata": {},
   "outputs": [
    {
     "name": "stdout",
     "output_type": "stream",
     "text": [
      "{'orange', 'kiwi', 'grapes', 'cherries', 'apple'}\n"
     ]
    }
   ],
   "source": [
    "types_of_fruit_eaten.add(\"kiwi\")\n",
    "print(types_of_fruit_eaten)"
   ]
  },
  {
   "cell_type": "code",
   "execution_count": 33,
   "id": "2213bcab",
   "metadata": {},
   "outputs": [
    {
     "name": "stdout",
     "output_type": "stream",
     "text": [
      "{'potatoe', 'orange', 'kiwi', 'grapes', 'cherries', 'banana', 'apple'}\n"
     ]
    }
   ],
   "source": [
    "types_of_fruit_eaten.update(['apple','kiwi','banana','potatoe'])\n",
    "print(types_of_fruit_eaten)"
   ]
  },
  {
   "cell_type": "markdown",
   "id": "b2eb6c62",
   "metadata": {},
   "source": [
    "#### Removing data from Sets with .discard() and .pop()"
   ]
  },
  {
   "cell_type": "code",
   "execution_count": 34,
   "id": "55c479d0",
   "metadata": {},
   "outputs": [
    {
     "name": "stdout",
     "output_type": "stream",
     "text": [
      "{'orange', 'kiwi', 'grapes', 'cherries', 'banana', 'apple'}\n"
     ]
    }
   ],
   "source": [
    "types_of_fruit_eaten.discard('potatoe')\n",
    "print(types_of_fruit_eaten)"
   ]
  },
  {
   "cell_type": "markdown",
   "id": "67e91464",
   "metadata": {},
   "source": [
    ".discard() will not give an error if an element is not in the set"
   ]
  },
  {
   "cell_type": "code",
   "execution_count": 35,
   "id": "0346e79d",
   "metadata": {},
   "outputs": [
    {
     "name": "stdout",
     "output_type": "stream",
     "text": [
      "{'orange', 'kiwi', 'grapes', 'cherries', 'banana', 'apple'}\n"
     ]
    }
   ],
   "source": [
    "types_of_fruit_eaten.discard('corn')\n",
    "print(types_of_fruit_eaten)"
   ]
  },
  {
   "cell_type": "code",
   "execution_count": 36,
   "id": "39e82847",
   "metadata": {},
   "outputs": [
    {
     "data": {
      "text/plain": [
       "'orange'"
      ]
     },
     "execution_count": 36,
     "metadata": {},
     "output_type": "execute_result"
    }
   ],
   "source": [
    "types_of_fruit_eaten.pop()"
   ]
  },
  {
   "cell_type": "code",
   "execution_count": 37,
   "id": "71c04193",
   "metadata": {},
   "outputs": [
    {
     "name": "stdout",
     "output_type": "stream",
     "text": [
      "{'kiwi', 'grapes', 'cherries', 'banana', 'apple'}\n"
     ]
    }
   ],
   "source": [
    "print(types_of_fruit_eaten)"
   ]
  },
  {
   "cell_type": "markdown",
   "id": "543d81b6",
   "metadata": {},
   "source": [
    "#### Set Operations with .union(), .intersection() and .difference()"
   ]
  },
  {
   "cell_type": "markdown",
   "id": "f1c0f291",
   "metadata": {},
   "source": [
    "Let's create a new set of fruit eaten last week... "
   ]
  },
  {
   "cell_type": "code",
   "execution_count": 38,
   "id": "6508535f",
   "metadata": {},
   "outputs": [
    {
     "name": "stdout",
     "output_type": "stream",
     "text": [
      "{'pear', 'kiwi', 'grapes', 'passion fruit', 'apple'}\n"
     ]
    }
   ],
   "source": [
    "fruit_eaten_lw = [\"apple\", \"kiwi\", \"grapes\", \"grapes\", \"passion fruit\", \"kiwi\", \"pear\", \"kiwi\"]\n",
    "types_of_fruit_eaten_lw = set(fruit_eaten_lw)\n",
    "print(types_of_fruit_eaten_lw)"
   ]
  },
  {
   "cell_type": "code",
   "execution_count": 39,
   "id": "15640723",
   "metadata": {},
   "outputs": [
    {
     "data": {
      "text/plain": [
       "{'apple', 'banana', 'cherries', 'grapes', 'kiwi', 'passion fruit', 'pear'}"
      ]
     },
     "execution_count": 39,
     "metadata": {},
     "output_type": "execute_result"
    }
   ],
   "source": [
    "types_of_fruit_eaten.union(types_of_fruit_eaten_lw)"
   ]
  },
  {
   "cell_type": "code",
   "execution_count": 40,
   "id": "8fa457ed",
   "metadata": {},
   "outputs": [
    {
     "data": {
      "text/plain": [
       "{'apple', 'grapes', 'kiwi'}"
      ]
     },
     "execution_count": 40,
     "metadata": {},
     "output_type": "execute_result"
    }
   ],
   "source": [
    "types_of_fruit_eaten.intersection(types_of_fruit_eaten_lw)"
   ]
  },
  {
   "cell_type": "code",
   "execution_count": 41,
   "id": "245890bc",
   "metadata": {},
   "outputs": [
    {
     "data": {
      "text/plain": [
       "{'banana', 'cherries'}"
      ]
     },
     "execution_count": 41,
     "metadata": {},
     "output_type": "execute_result"
    }
   ],
   "source": [
    "types_of_fruit_eaten.difference(types_of_fruit_eaten_lw)"
   ]
  },
  {
   "cell_type": "code",
   "execution_count": 42,
   "id": "c7881f47",
   "metadata": {},
   "outputs": [
    {
     "data": {
      "text/plain": [
       "{'passion fruit', 'pear'}"
      ]
     },
     "execution_count": 42,
     "metadata": {},
     "output_type": "execute_result"
    }
   ],
   "source": [
    "types_of_fruit_eaten_lw.difference(types_of_fruit_eaten)"
   ]
  },
  {
   "cell_type": "markdown",
   "id": "61d66ec5",
   "metadata": {},
   "source": [
    "# Lesson 2 - Dictionaries"
   ]
  },
  {
   "cell_type": "markdown",
   "id": "2a5f52b0",
   "metadata": {},
   "source": [
    "* Dictionaries hold key/value pairs (key is generally alpha numeric)\n",
    "* They are Nestable\n",
    "* They are Iterable\n",
    "    * We can iterate over the Keys and Values of a dictionary \n",
    "    * We can also iterate over the Items of a dictionary\n",
    "* Items of a Dictionary are Tuples of Key and Value pairs\n",
    "* Created by dict() or {}"
   ]
  },
  {
   "cell_type": "code",
   "execution_count": 43,
   "id": "755a7de0",
   "metadata": {},
   "outputs": [],
   "source": [
    "fruit_opinion_dict = {}\n",
    "\n",
    "for fruit, opinion in fruit_info:\n",
    "    fruit_opinion_dict[fruit] = opinion"
   ]
  },
  {
   "cell_type": "code",
   "execution_count": 44,
   "id": "ea55c55c",
   "metadata": {},
   "outputs": [
    {
     "name": "stdout",
     "output_type": "stream",
     "text": [
      "apples\n",
      "oranges\n",
      "grapes\n",
      "kiwis\n",
      "cherries\n",
      "grapefruits\n",
      "passion fruits\n",
      "plums\n"
     ]
    }
   ],
   "source": [
    "for name in fruit_opinion_dict:\n",
    "    print(name)"
   ]
  },
  {
   "cell_type": "code",
   "execution_count": 45,
   "id": "0ba68275",
   "metadata": {},
   "outputs": [
    {
     "data": {
      "text/plain": [
       "'Good'"
      ]
     },
     "execution_count": 45,
     "metadata": {},
     "output_type": "execute_result"
    }
   ],
   "source": [
    "fruit_opinion_dict['oranges']"
   ]
  },
  {
   "cell_type": "markdown",
   "id": "fd08a5b2",
   "metadata": {},
   "source": [
    "#### This next line will cause a key error because 'potatoes' are not in the Dictionary, after you see that... comment out the code by adding a \"#\" in front"
   ]
  },
  {
   "cell_type": "code",
   "execution_count": 46,
   "id": "b868da01",
   "metadata": {},
   "outputs": [],
   "source": [
    "# fruit_opinion_dict['potatoes']"
   ]
  },
  {
   "cell_type": "markdown",
   "id": "f1ec121b",
   "metadata": {},
   "source": [
    "#### Using .get() avoids KeyErrors"
   ]
  },
  {
   "cell_type": "code",
   "execution_count": 47,
   "id": "c01aaaf2",
   "metadata": {},
   "outputs": [],
   "source": [
    "fruit_opinion_dict.get('potatoes')"
   ]
  },
  {
   "cell_type": "code",
   "execution_count": 48,
   "id": "50b466a0",
   "metadata": {},
   "outputs": [
    {
     "data": {
      "text/plain": [
       "'Not Found'"
      ]
     },
     "execution_count": 48,
     "metadata": {},
     "output_type": "execute_result"
    }
   ],
   "source": [
    "fruit_opinion_dict.get('potatoes','Not Found')"
   ]
  },
  {
   "cell_type": "code",
   "execution_count": 49,
   "id": "b97ce1e1",
   "metadata": {},
   "outputs": [
    {
     "data": {
      "text/plain": [
       "'Wonderful'"
      ]
     },
     "execution_count": 49,
     "metadata": {},
     "output_type": "execute_result"
    }
   ],
   "source": [
    "fruit_opinion_dict.get('kiwis')"
   ]
  },
  {
   "cell_type": "markdown",
   "id": "79ad8db1",
   "metadata": {},
   "source": [
    "#### The .keys() method shows the keys for a given dictionary"
   ]
  },
  {
   "cell_type": "code",
   "execution_count": 50,
   "id": "2e6a86b1",
   "metadata": {},
   "outputs": [
    {
     "data": {
      "text/plain": [
       "dict_keys(['apples', 'oranges', 'grapes', 'kiwis', 'cherries', 'grapefruits', 'passion fruits', 'plums'])"
      ]
     },
     "execution_count": 50,
     "metadata": {},
     "output_type": "execute_result"
    }
   ],
   "source": [
    "fruit_opinion_dict.keys()"
   ]
  },
  {
   "cell_type": "markdown",
   "id": "ea7eadf2",
   "metadata": {},
   "source": [
    "#### Nesting Dictionaries"
   ]
  },
  {
   "cell_type": "markdown",
   "id": "1cf286a0",
   "metadata": {},
   "source": [
    "Let's also create a Veggie Opinions Dictionary..."
   ]
  },
  {
   "cell_type": "code",
   "execution_count": 51,
   "id": "9e437ddb",
   "metadata": {},
   "outputs": [],
   "source": [
    "veggie_basket = [\n",
    "    \"tomatoes\",\n",
    "    \"carrots\",\n",
    "    \"asparagus\",\n",
    "    \"kale\",\n",
    "    \"squash\",\n",
    "    \"spinach\",\n",
    "    \"green beans\",\n",
    "    \"micro greens\",\n",
    "]"
   ]
  },
  {
   "cell_type": "code",
   "execution_count": 52,
   "id": "3fdda919",
   "metadata": {},
   "outputs": [],
   "source": [
    "veggie_opinion = [\n",
    "    \"Great\",\n",
    "    \"Good\",\n",
    "    \"Wonderful\",\n",
    "    \"So So\",\n",
    "    \"Yucky\",\n",
    "    \"Great\",\n",
    "    \"Yummy\",\n",
    "    \"Wonderful\",\n",
    "]"
   ]
  },
  {
   "cell_type": "code",
   "execution_count": 53,
   "id": "542ad4c4",
   "metadata": {},
   "outputs": [],
   "source": [
    "veggie_info = list(zip(veggie_basket, veggie_opinion))"
   ]
  },
  {
   "cell_type": "code",
   "execution_count": 54,
   "id": "20728245",
   "metadata": {},
   "outputs": [],
   "source": [
    "veggie_opinion_dict = {}\n",
    "\n",
    "for veggie, opinion in veggie_info:\n",
    "    veggie_opinion_dict[veggie] = opinion"
   ]
  },
  {
   "cell_type": "code",
   "execution_count": 55,
   "id": "bf84a0fc",
   "metadata": {},
   "outputs": [],
   "source": [
    "food_opinion_dict = {'fruit':fruit_opinion_dict, 'vegitable':veggie_opinion_dict}"
   ]
  },
  {
   "cell_type": "code",
   "execution_count": 56,
   "id": "76b652cf",
   "metadata": {},
   "outputs": [
    {
     "data": {
      "text/plain": [
       "dict_keys(['fruit', 'vegitable'])"
      ]
     },
     "execution_count": 56,
     "metadata": {},
     "output_type": "execute_result"
    }
   ],
   "source": [
    "food_opinion_dict.keys()"
   ]
  },
  {
   "cell_type": "code",
   "execution_count": 57,
   "id": "6bdd49ae",
   "metadata": {},
   "outputs": [
    {
     "data": {
      "text/plain": [
       "dict_keys(['tomatoes', 'carrots', 'asparagus', 'kale', 'squash', 'spinach', 'green beans', 'micro greens'])"
      ]
     },
     "execution_count": 57,
     "metadata": {},
     "output_type": "execute_result"
    }
   ],
   "source": [
    "food_opinion_dict['vegitable'].keys()"
   ]
  },
  {
   "cell_type": "code",
   "execution_count": 58,
   "id": "65cf7cd4",
   "metadata": {},
   "outputs": [
    {
     "name": "stdout",
     "output_type": "stream",
     "text": [
      "{'tomatoes': 'Great', 'carrots': 'Good', 'asparagus': 'Wonderful', 'kale': 'So So', 'squash': 'Yucky', 'spinach': 'Great', 'green beans': 'Yummy', 'micro greens': 'Wonderful'}\n"
     ]
    }
   ],
   "source": [
    "print(food_opinion_dict['vegitable'])"
   ]
  },
  {
   "cell_type": "code",
   "execution_count": 59,
   "id": "a183ca00",
   "metadata": {},
   "outputs": [
    {
     "name": "stdout",
     "output_type": "stream",
     "text": [
      "Yucky\n"
     ]
    }
   ],
   "source": [
    "print(food_opinion_dict['vegitable']['squash'])"
   ]
  },
  {
   "cell_type": "code",
   "execution_count": 60,
   "id": "79a24bff",
   "metadata": {},
   "outputs": [
    {
     "name": "stdout",
     "output_type": "stream",
     "text": [
      "Yummy\n"
     ]
    }
   ],
   "source": [
    "print(food_opinion_dict['fruit']['grapes'])"
   ]
  },
  {
   "cell_type": "markdown",
   "id": "688e7394",
   "metadata": {},
   "source": [
    "### Using Sorted() with Dictionaries"
   ]
  },
  {
   "cell_type": "markdown",
   "id": "6426e716",
   "metadata": {},
   "source": [
    "What are the last three opinions for the fruits in reverse alphabetic order?"
   ]
  },
  {
   "cell_type": "code",
   "execution_count": 61,
   "id": "949c5713",
   "metadata": {},
   "outputs": [
    {
     "name": "stdout",
     "output_type": "stream",
     "text": [
      "plums: Messy\n",
      "passion fruits: Strange\n",
      "oranges: Good\n"
     ]
    }
   ],
   "source": [
    "for fruit in sorted(fruit_opinion_dict, reverse=True)[:3]:\n",
    "    print(fruit + \": \" + fruit_opinion_dict[fruit])"
   ]
  },
  {
   "cell_type": "markdown",
   "id": "3bc72155",
   "metadata": {},
   "source": [
    "#### Adding to Dictionaries"
   ]
  },
  {
   "cell_type": "markdown",
   "id": "9445e854",
   "metadata": {},
   "source": [
    "* Assignment to add a new key/value\n",
    "* .update() method to update from another dictionary, tuples or keywords"
   ]
  },
  {
   "cell_type": "code",
   "execution_count": 62,
   "id": "9f4657f2",
   "metadata": {},
   "outputs": [
    {
     "name": "stdout",
     "output_type": "stream",
     "text": [
      "{'apples': 'Good', 'oranges': 'Good', 'grapes': 'Yummy', 'kiwis': 'Wonderful', 'cherries': 'Fantastic', 'grapefruits': 'Awesome', 'passion fruits': 'Strange', 'plums': 'Messy', 'durian': 'Foul'}\n"
     ]
    }
   ],
   "source": [
    "food_opinion_dict['fruit']['durian'] = 'Foul' \n",
    "print(food_opinion_dict['fruit'])"
   ]
  },
  {
   "cell_type": "code",
   "execution_count": 63,
   "id": "d1c8ba62",
   "metadata": {},
   "outputs": [
    {
     "name": "stdout",
     "output_type": "stream",
     "text": [
      "dict_keys(['fruit', 'vegitable', 'bread'])\n"
     ]
    }
   ],
   "source": [
    "bread_opinion_dict = {'bread':{'sourdough':'Yummy','whole wheat':'Great','english muffing':'Delightful',\n",
    "                      'melba toast':'Okay','rye':'Dry'}}\n",
    "food_opinion_dict.update(bread_opinion_dict)\n",
    "print(food_opinion_dict.keys())"
   ]
  },
  {
   "cell_type": "markdown",
   "id": "e62205c9",
   "metadata": {},
   "source": [
    "#### Popping and Deleting from Dictionaries"
   ]
  },
  {
   "cell_type": "markdown",
   "id": "9b4ddf1e",
   "metadata": {},
   "source": [
    "* del instruction deletes a key/value (but can give key errors)\n",
    "* .pop() method safely removes key/value"
   ]
  },
  {
   "cell_type": "markdown",
   "id": "377cbe39",
   "metadata": {},
   "source": [
    "suppose I want to delete 'english muffins'"
   ]
  },
  {
   "cell_type": "code",
   "execution_count": 64,
   "id": "c3be3364",
   "metadata": {},
   "outputs": [],
   "source": [
    "# del food_opinion_dict['bread']['english muffins']"
   ]
  },
  {
   "cell_type": "markdown",
   "id": "cec56ec4",
   "metadata": {},
   "source": [
    "That gives a key error... lets do it safely (comment that line out now)"
   ]
  },
  {
   "cell_type": "code",
   "execution_count": 65,
   "id": "9a7450d6",
   "metadata": {},
   "outputs": [
    {
     "data": {
      "text/plain": [
       "'Not Found'"
      ]
     },
     "execution_count": 65,
     "metadata": {},
     "output_type": "execute_result"
    }
   ],
   "source": [
    "food_opinion_dict['bread'].pop('english muffins','Not Found')"
   ]
  },
  {
   "cell_type": "code",
   "execution_count": 66,
   "id": "b3c2d9a7",
   "metadata": {},
   "outputs": [
    {
     "data": {
      "text/plain": [
       "dict_keys(['sourdough', 'whole wheat', 'english muffing', 'melba toast', 'rye'])"
      ]
     },
     "execution_count": 66,
     "metadata": {},
     "output_type": "execute_result"
    }
   ],
   "source": [
    "food_opinion_dict['bread'].keys()"
   ]
  },
  {
   "cell_type": "markdown",
   "id": "0eed82c8",
   "metadata": {},
   "source": [
    "Doh! It was misspelled... "
   ]
  },
  {
   "cell_type": "code",
   "execution_count": 67,
   "id": "0c67c25e",
   "metadata": {},
   "outputs": [
    {
     "data": {
      "text/plain": [
       "'Delightful'"
      ]
     },
     "execution_count": 67,
     "metadata": {},
     "output_type": "execute_result"
    }
   ],
   "source": [
    "food_opinion_dict['bread'].pop('english muffing','Not Found')"
   ]
  },
  {
   "cell_type": "code",
   "execution_count": 68,
   "id": "3229d211",
   "metadata": {},
   "outputs": [
    {
     "data": {
      "text/plain": [
       "dict_keys(['sourdough', 'whole wheat', 'melba toast', 'rye'])"
      ]
     },
     "execution_count": 68,
     "metadata": {},
     "output_type": "execute_result"
    }
   ],
   "source": [
    "food_opinion_dict['bread'].keys()"
   ]
  },
  {
   "cell_type": "code",
   "execution_count": 69,
   "id": "956ec891",
   "metadata": {},
   "outputs": [],
   "source": [
    "food_opinion_dict['bread']['English muffins'] = 'Fantastic'"
   ]
  },
  {
   "cell_type": "code",
   "execution_count": 70,
   "id": "dec55249",
   "metadata": {},
   "outputs": [
    {
     "data": {
      "text/plain": [
       "dict_keys(['sourdough', 'whole wheat', 'melba toast', 'rye', 'English muffins'])"
      ]
     },
     "execution_count": 70,
     "metadata": {},
     "output_type": "execute_result"
    }
   ],
   "source": [
    "food_opinion_dict['bread'].keys()"
   ]
  },
  {
   "cell_type": "markdown",
   "id": "3de1da68",
   "metadata": {},
   "source": [
    "I can also safely pop off an entire dictionary, and make it empty if they key does not exist"
   ]
  },
  {
   "cell_type": "code",
   "execution_count": 71,
   "id": "f8f0133e",
   "metadata": {},
   "outputs": [],
   "source": [
    "meat_opinion_dict = food_opinion_dict.pop('meat',{})"
   ]
  },
  {
   "cell_type": "code",
   "execution_count": 72,
   "id": "de96fb68",
   "metadata": {},
   "outputs": [
    {
     "name": "stdout",
     "output_type": "stream",
     "text": [
      "{}\n"
     ]
    }
   ],
   "source": [
    "print(meat_opinion_dict)"
   ]
  },
  {
   "cell_type": "markdown",
   "id": "200ebd88",
   "metadata": {},
   "source": [
    "Hmmm... I guess the 'meat' dictionary wasn't in the food_opinion_dict.  What were the keys?"
   ]
  },
  {
   "cell_type": "code",
   "execution_count": 73,
   "id": "abe7b62c",
   "metadata": {},
   "outputs": [
    {
     "name": "stdout",
     "output_type": "stream",
     "text": [
      "dict_keys(['fruit', 'vegitable', 'bread'])\n"
     ]
    }
   ],
   "source": [
    "print(food_opinion_dict.keys())"
   ]
  },
  {
   "cell_type": "markdown",
   "id": "8900604b",
   "metadata": {},
   "source": [
    "### Using .items() with Dictionaries"
   ]
  },
  {
   "cell_type": "code",
   "execution_count": 74,
   "id": "b8925a88",
   "metadata": {},
   "outputs": [
    {
     "name": "stdout",
     "output_type": "stream",
     "text": [
      "apples: Good\n",
      "oranges: Good\n",
      "grapes: Yummy\n",
      "kiwis: Wonderful\n",
      "cherries: Fantastic\n",
      "grapefruits: Awesome\n",
      "passion fruits: Strange\n",
      "plums: Messy\n",
      "durian: Foul\n",
      "tomatoes: Great\n",
      "carrots: Good\n",
      "asparagus: Wonderful\n",
      "kale: So So\n",
      "squash: Yucky\n",
      "spinach: Great\n",
      "green beans: Yummy\n",
      "micro greens: Wonderful\n",
      "sourdough: Yummy\n",
      "whole wheat: Great\n",
      "melba toast: Okay\n",
      "rye: Dry\n",
      "English muffins: Fantastic\n"
     ]
    }
   ],
   "source": [
    "# categories becomes a list of the keys\n",
    "categories = food_opinion_dict.keys()\n",
    "\n",
    "# lets (outer)loop through all of the categories of dictionaries we have\n",
    "for group in categories:\n",
    "    \n",
    "    #on this (inner) loop, we are unpacking a tuple that is returned from the .items() method\n",
    "    for food, opinion in food_opinion_dict[group].items():    \n",
    "        print(food + \": \" + opinion)"
   ]
  },
  {
   "cell_type": "markdown",
   "id": "b0659421",
   "metadata": {},
   "source": [
    "## 'Pythonic' ways of using Dictionaries"
   ]
  },
  {
   "cell_type": "markdown",
   "id": "7071120e",
   "metadata": {},
   "source": [
    "Rather than using the .get() method to safely check to see if a key is in a dictionary, we can use\n",
    "the \"in\" operator"
   ]
  },
  {
   "cell_type": "code",
   "execution_count": 75,
   "id": "15fec11f",
   "metadata": {},
   "outputs": [
    {
     "data": {
      "text/plain": [
       "True"
      ]
     },
     "execution_count": 75,
     "metadata": {},
     "output_type": "execute_result"
    }
   ],
   "source": [
    "'bread' in food_opinion_dict "
   ]
  },
  {
   "cell_type": "code",
   "execution_count": 76,
   "id": "a56cf456",
   "metadata": {},
   "outputs": [
    {
     "data": {
      "text/plain": [
       "False"
      ]
     },
     "execution_count": 76,
     "metadata": {},
     "output_type": "execute_result"
    }
   ],
   "source": [
    "'meat' in food_opinion_dict"
   ]
  },
  {
   "cell_type": "code",
   "execution_count": 77,
   "id": "ebf5a168",
   "metadata": {},
   "outputs": [
    {
     "data": {
      "text/plain": [
       "True"
      ]
     },
     "execution_count": 77,
     "metadata": {},
     "output_type": "execute_result"
    }
   ],
   "source": [
    "'fruit' in food_opinion_dict"
   ]
  },
  {
   "cell_type": "code",
   "execution_count": 78,
   "id": "37641e96",
   "metadata": {},
   "outputs": [
    {
     "data": {
      "text/plain": [
       "False"
      ]
     },
     "execution_count": 78,
     "metadata": {},
     "output_type": "execute_result"
    }
   ],
   "source": [
    "'kumquat' in food_opinion_dict['fruit']"
   ]
  },
  {
   "cell_type": "markdown",
   "id": "3222f914",
   "metadata": {},
   "source": [
    "### An introduction to functions"
   ]
  },
  {
   "cell_type": "code",
   "execution_count": 79,
   "id": "b8d5e804",
   "metadata": {},
   "outputs": [
    {
     "name": "stdout",
     "output_type": "stream",
     "text": [
      "Opinion of kiwis are Wonderful\n"
     ]
    }
   ],
   "source": [
    "def opinion_search(category, food):\n",
    "    if category in food_opinion_dict:\n",
    "        if food in food_opinion_dict[category]:\n",
    "            print('Opinion of ' + food + ' are %s' % food_opinion_dict[category][food])\n",
    "        else:\n",
    "            print('Food not found')\n",
    "    else:\n",
    "        print('Category not found')\n",
    "\n",
    "opinion_search('fruit','kiwis')"
   ]
  },
  {
   "cell_type": "code",
   "execution_count": 80,
   "id": "d4fc9772",
   "metadata": {},
   "outputs": [
    {
     "name": "stdout",
     "output_type": "stream",
     "text": [
      "Food not found\n"
     ]
    }
   ],
   "source": [
    "opinion_search('vegitable','lima beans')"
   ]
  },
  {
   "cell_type": "code",
   "execution_count": 81,
   "id": "b0f06088",
   "metadata": {},
   "outputs": [
    {
     "name": "stdout",
     "output_type": "stream",
     "text": [
      "Category not found\n"
     ]
    }
   ],
   "source": [
    "opinion_search('meat','beef')"
   ]
  },
  {
   "cell_type": "markdown",
   "id": "288358bd",
   "metadata": {},
   "source": [
    "### importing .csv files with csv module"
   ]
  },
  {
   "cell_type": "code",
   "execution_count": 82,
   "id": "943709d5",
   "metadata": {},
   "outputs": [
    {
     "name": "stdout",
     "output_type": "stream",
     "text": [
      "{'TYPE': 'OPINION', 'Mutton': 'Pass', 'Chicken': 'Good', 'Turkey': 'Okay', 'Venison': 'Nope', 'Fish': 'Depends', 'Duck': 'Good', 'Goat': 'Gross'}\n"
     ]
    }
   ],
   "source": [
    "import csv\n",
    "\n",
    "mydict = {}\n",
    "\n",
    "with open('beef_ops.csv', mode = 'r') as inp:\n",
    "    reader = csv.reader(inp)\n",
    "    for rows in reader:\n",
    "        mydict[rows[0]] = rows[1]\n",
    "    \n",
    "    # another way to do the \"for loop\" above is with a Dictionary Comprehension\n",
    "    # mydict = {rows[0]:rows[1] for rows in reader}\n",
    "\n",
    "print(mydict)"
   ]
  },
  {
   "cell_type": "code",
   "execution_count": 83,
   "id": "de0284ca",
   "metadata": {},
   "outputs": [
    {
     "data": {
      "text/plain": [
       "'OPINION'"
      ]
     },
     "execution_count": 83,
     "metadata": {},
     "output_type": "execute_result"
    }
   ],
   "source": [
    "# we don't need the header\n",
    "\n",
    "mydict.pop('TYPE')"
   ]
  },
  {
   "cell_type": "code",
   "execution_count": 84,
   "id": "72c104cc",
   "metadata": {},
   "outputs": [
    {
     "name": "stdout",
     "output_type": "stream",
     "text": [
      "{'Mutton': 'Pass', 'Chicken': 'Good', 'Turkey': 'Okay', 'Venison': 'Nope', 'Fish': 'Depends', 'Duck': 'Good', 'Goat': 'Gross'}\n"
     ]
    }
   ],
   "source": [
    "print(mydict)"
   ]
  },
  {
   "cell_type": "code",
   "execution_count": 85,
   "id": "81ef683e",
   "metadata": {},
   "outputs": [],
   "source": [
    "food_opinion_dict.update({'meat':mydict})"
   ]
  },
  {
   "cell_type": "code",
   "execution_count": 86,
   "id": "daf95a5c",
   "metadata": {},
   "outputs": [
    {
     "data": {
      "text/plain": [
       "dict_keys(['fruit', 'vegitable', 'bread', 'meat'])"
      ]
     },
     "execution_count": 86,
     "metadata": {},
     "output_type": "execute_result"
    }
   ],
   "source": [
    "food_opinion_dict.keys()"
   ]
  },
  {
   "cell_type": "code",
   "execution_count": 87,
   "id": "70fe38f0",
   "metadata": {},
   "outputs": [
    {
     "data": {
      "text/plain": [
       "{'Mutton': 'Pass',\n",
       " 'Chicken': 'Good',\n",
       " 'Turkey': 'Okay',\n",
       " 'Venison': 'Nope',\n",
       " 'Fish': 'Depends',\n",
       " 'Duck': 'Good',\n",
       " 'Goat': 'Gross'}"
      ]
     },
     "execution_count": 87,
     "metadata": {},
     "output_type": "execute_result"
    }
   ],
   "source": [
    "food_opinion_dict.pop('meat')"
   ]
  },
  {
   "cell_type": "markdown",
   "id": "8faa3d13",
   "metadata": {},
   "source": [
    "#### Another way to load with csv module"
   ]
  },
  {
   "cell_type": "code",
   "execution_count": 88,
   "id": "03e64a93",
   "metadata": {},
   "outputs": [
    {
     "name": "stdout",
     "output_type": "stream",
     "text": [
      "{'Mutton': 'Pass', 'Chicken': 'Good', 'Turkey': 'Okay', 'Venison': 'Nope', 'Fish': 'Depends', 'Duck': 'Good', 'Goat': 'Gross'}\n"
     ]
    }
   ],
   "source": [
    "mydict = {}\n",
    "inp = open('beef_ops.csv',mode='r')\n",
    "\n",
    "for row in csv.DictReader(inp):\n",
    "    mydict[row['TYPE']] = row['OPINION']\n",
    "    \n",
    "print(mydict)"
   ]
  },
  {
   "cell_type": "code",
   "execution_count": 89,
   "id": "a07894fa",
   "metadata": {},
   "outputs": [
    {
     "data": {
      "text/plain": [
       "dict_keys(['fruit', 'vegitable', 'bread', 'meat'])"
      ]
     },
     "execution_count": 89,
     "metadata": {},
     "output_type": "execute_result"
    }
   ],
   "source": [
    "food_opinion_dict.update({'meat':mydict})\n",
    "food_opinion_dict.keys()"
   ]
  },
  {
   "cell_type": "markdown",
   "id": "77ceda04",
   "metadata": {},
   "source": [
    "### A different way, use Pandas to convert .csv file to Dictionary"
   ]
  },
  {
   "cell_type": "markdown",
   "id": "650d8f23",
   "metadata": {},
   "source": [
    "Pandas read_csv is more powerful and flexible that the csv module"
   ]
  },
  {
   "cell_type": "code",
   "execution_count": 115,
   "id": "b45a421a",
   "metadata": {},
   "outputs": [
    {
     "name": "stdout",
     "output_type": "stream",
     "text": [
      "{'Jolly Rancher': 'Yuck', 'M&M': 'Average', 'Zagnut Bar': 'Good', 'Peanut Butter Cups': 'Good', 'Pop Rocks': 'Gross', 'Lollipop': 'Messy', 'Cotton Candy': 'Yuck', 'Chewing Gum': 'Bad', 'Gummies': 'So So', 'Caramels': 'Disgusting'}\n"
     ]
    }
   ],
   "source": [
    "import pandas as pd\n",
    "\n",
    "mydict = {}\n",
    "mydict = pd.read_csv('candy_ops.csv', header=0, index_col=0, squeeze=True).to_dict()\n",
    "\n",
    "print(mydict)"
   ]
  },
  {
   "cell_type": "markdown",
   "id": "53b0afba",
   "metadata": {},
   "source": [
    "That was simpler... "
   ]
  },
  {
   "cell_type": "code",
   "execution_count": 116,
   "id": "b2e7ae8d",
   "metadata": {},
   "outputs": [],
   "source": [
    "food_opinion_dict.update({'candy':mydict})"
   ]
  },
  {
   "cell_type": "code",
   "execution_count": 117,
   "id": "e521a422",
   "metadata": {},
   "outputs": [
    {
     "data": {
      "text/plain": [
       "dict_keys(['fruit', 'vegitable', 'bread', 'meat', 'candy'])"
      ]
     },
     "execution_count": 117,
     "metadata": {},
     "output_type": "execute_result"
    }
   ],
   "source": [
    "food_opinion_dict.keys()"
   ]
  },
  {
   "cell_type": "markdown",
   "id": "a00dea78",
   "metadata": {},
   "source": [
    "# Lesson 3 - Data Exploration"
   ]
  },
  {
   "cell_type": "code",
   "execution_count": 118,
   "id": "63d09b58",
   "metadata": {},
   "outputs": [
    {
     "name": "stdout",
     "output_type": "stream",
     "text": [
      "['Good', 'Good', 'Yummy', 'Wonderful', 'Fantastic', 'Awesome', 'Strange', 'Messy', 'Foul', 'Great', 'Good', 'Wonderful', 'So So', 'Yucky', 'Great', 'Yummy', 'Wonderful', 'Yummy', 'Great', 'Okay', 'Dry', 'Fantastic', 'Pass', 'Good', 'Okay', 'Nope', 'Depends', 'Good', 'Gross', 'Yuck', 'Average', 'Good', 'Good', 'Gross', 'Messy', 'Yuck', 'Bad', 'So So', 'Disgusting']\n"
     ]
    }
   ],
   "source": [
    "from collections import Counter\n",
    "\n",
    "all_opinions = []\n",
    "categories = food_opinion_dict.keys()\n",
    "for group in categories:\n",
    "    for food in food_opinion_dict[group]:\n",
    "        all_opinions.append(food_opinion_dict[group][food])\n",
    "        \n",
    "print(all_opinions)"
   ]
  },
  {
   "cell_type": "code",
   "execution_count": 119,
   "id": "d0375df0",
   "metadata": {},
   "outputs": [
    {
     "name": "stdout",
     "output_type": "stream",
     "text": [
      "<class 'collections.Counter'>\n"
     ]
    }
   ],
   "source": [
    "opinion_counter_by_types = Counter(all_opinions)\n",
    "print(type(opinion_counter_by_types))"
   ]
  },
  {
   "cell_type": "code",
   "execution_count": 120,
   "id": "e3ed121a",
   "metadata": {},
   "outputs": [
    {
     "name": "stdout",
     "output_type": "stream",
     "text": [
      "Counter({'Good': 7, 'Yummy': 3, 'Wonderful': 3, 'Great': 3, 'Fantastic': 2, 'Messy': 2, 'So So': 2, 'Okay': 2, 'Gross': 2, 'Yuck': 2, 'Awesome': 1, 'Strange': 1, 'Foul': 1, 'Yucky': 1, 'Dry': 1, 'Pass': 1, 'Nope': 1, 'Depends': 1, 'Average': 1, 'Bad': 1, 'Disgusting': 1})\n"
     ]
    }
   ],
   "source": [
    "print(opinion_counter_by_types)"
   ]
  },
  {
   "cell_type": "code",
   "execution_count": 121,
   "id": "0f3a18fa",
   "metadata": {},
   "outputs": [
    {
     "name": "stdout",
     "output_type": "stream",
     "text": [
      "3\n"
     ]
    }
   ],
   "source": [
    "print(opinion_counter_by_types['Great'])"
   ]
  },
  {
   "cell_type": "code",
   "execution_count": 122,
   "id": "938dee7f",
   "metadata": {},
   "outputs": [
    {
     "name": "stdout",
     "output_type": "stream",
     "text": [
      "[('Good', 7), ('Yummy', 3)]\n"
     ]
    }
   ],
   "source": [
    "print(opinion_counter_by_types.most_common(2))"
   ]
  },
  {
   "cell_type": "code",
   "execution_count": 123,
   "id": "4514eeaf",
   "metadata": {},
   "outputs": [
    {
     "data": {
      "image/png": "[encoded data removed]",
      "text/plain": [
       "<Figure size 432x288 with 1 Axes>"
      ]
     },
     "metadata": {
      "needs_background": "light"
     },
     "output_type": "display_data"
    }
   ],
   "source": [
    "import matplotlib.pyplot as plt\n",
    "\n",
    "opinion = []\n",
    "count = []\n",
    "\n",
    "for op in opinion_counter_by_types:\n",
    "    opinion.append(op)\n",
    "    count.append(opinion_counter_by_types[op])\n",
    "\n",
    "plt.bar(opinion,count)\n",
    "plt.xticks(rotation=90)\n",
    "plt.ylabel('Count')\n",
    "plt.title('Food Opinions Count')\n",
    "\n",
    "plt.show()"
   ]
  },
  {
   "cell_type": "markdown",
   "id": "315fa062",
   "metadata": {},
   "source": [
    "### We know what the categories are intuitively, but we can't really systematically evaluate them without some way to evaluate sentiment"
   ]
  },
  {
   "cell_type": "markdown",
   "id": "27063429",
   "metadata": {},
   "source": [
    "https://nealcaren.org/lessons/wordlists/"
   ]
  },
  {
   "cell_type": "code",
   "execution_count": 124,
   "id": "d0d0dfdf",
   "metadata": {},
   "outputs": [
    {
     "name": "stdout",
     "output_type": "stream",
     "text": [
      "Requirement already satisfied: afinn in /home/jovyan/.rsm-msba/lib/python3.8/site-packages (0.1)\n"
     ]
    }
   ],
   "source": [
    "!pip3 install afinn"
   ]
  },
  {
   "cell_type": "code",
   "execution_count": 125,
   "id": "b0e2de03",
   "metadata": {},
   "outputs": [
    {
     "data": {
      "text/plain": [
       "3.0"
      ]
     },
     "execution_count": 125,
     "metadata": {},
     "output_type": "execute_result"
    }
   ],
   "source": [
    "from afinn import Afinn\n",
    "afinn = Afinn(language = 'en')\n",
    "afinn.score('Good')"
   ]
  },
  {
   "cell_type": "code",
   "execution_count": 126,
   "id": "d3538d58",
   "metadata": {},
   "outputs": [
    {
     "data": {
      "text/plain": [
       "4.0"
      ]
     },
     "execution_count": 126,
     "metadata": {},
     "output_type": "execute_result"
    }
   ],
   "source": [
    "afinn.score('Wonderful')"
   ]
  },
  {
   "cell_type": "markdown",
   "id": "528eec1d",
   "metadata": {},
   "source": [
    "### Let's create a Pandas DataFrame because that will be easier to work with as a data set"
   ]
  },
  {
   "cell_type": "code",
   "execution_count": 127,
   "id": "b99a8289",
   "metadata": {},
   "outputs": [
    {
     "name": "stdout",
     "output_type": "stream",
     "text": [
      "Empty DataFrame\n",
      "Columns: [Group, Food, Opinion, Score]\n",
      "Index: []\n"
     ]
    }
   ],
   "source": [
    "import pandas as pd\n",
    "opinion_df = pd.DataFrame(columns = ['Group','Food','Opinion','Score'])\n",
    "print(opinion_df)"
   ]
  },
  {
   "cell_type": "code",
   "execution_count": 128,
   "id": "e8fc5f3d",
   "metadata": {},
   "outputs": [],
   "source": [
    "categories = food_opinion_dict.keys()\n",
    "\n",
    "for group in categories:\n",
    "    for food in food_opinion_dict[group]:\n",
    "        opinion = food_opinion_dict[group][food]\n",
    "        opinion_df = opinion_df.append({'Group':group,'Food':food, \n",
    "                                        'Opinion':opinion, 'Score':afinn.score(opinion)},\n",
    "                                       ignore_index = True)"
   ]
  },
  {
   "cell_type": "code",
   "execution_count": 129,
   "id": "7d3bb017",
   "metadata": {},
   "outputs": [
    {
     "data": {
      "text/html": [
       "<div>\n",
       "<style scoped>\n",
       "    .dataframe tbody tr th:only-of-type {\n",
       "        vertical-align: middle;\n",
       "    }\n",
       "\n",
       "    .dataframe tbody tr th {\n",
       "        vertical-align: top;\n",
       "    }\n",
       "\n",
       "    .dataframe thead th {\n",
       "        text-align: right;\n",
       "    }\n",
       "</style>\n",
       "<table border=\"1\" class=\"dataframe\">\n",
       "  <thead>\n",
       "    <tr style=\"text-align: right;\">\n",
       "      <th></th>\n",
       "      <th>Group</th>\n",
       "      <th>Food</th>\n",
       "      <th>Opinion</th>\n",
       "      <th>Score</th>\n",
       "    </tr>\n",
       "  </thead>\n",
       "  <tbody>\n",
       "    <tr>\n",
       "      <th>0</th>\n",
       "      <td>fruit</td>\n",
       "      <td>apples</td>\n",
       "      <td>Good</td>\n",
       "      <td>3.0</td>\n",
       "    </tr>\n",
       "    <tr>\n",
       "      <th>1</th>\n",
       "      <td>fruit</td>\n",
       "      <td>oranges</td>\n",
       "      <td>Good</td>\n",
       "      <td>3.0</td>\n",
       "    </tr>\n",
       "    <tr>\n",
       "      <th>2</th>\n",
       "      <td>fruit</td>\n",
       "      <td>grapes</td>\n",
       "      <td>Yummy</td>\n",
       "      <td>3.0</td>\n",
       "    </tr>\n",
       "    <tr>\n",
       "      <th>3</th>\n",
       "      <td>fruit</td>\n",
       "      <td>kiwis</td>\n",
       "      <td>Wonderful</td>\n",
       "      <td>4.0</td>\n",
       "    </tr>\n",
       "    <tr>\n",
       "      <th>4</th>\n",
       "      <td>fruit</td>\n",
       "      <td>cherries</td>\n",
       "      <td>Fantastic</td>\n",
       "      <td>4.0</td>\n",
       "    </tr>\n",
       "  </tbody>\n",
       "</table>\n",
       "</div>"
      ],
      "text/plain": [
       "   Group      Food    Opinion  Score\n",
       "0  fruit    apples       Good    3.0\n",
       "1  fruit   oranges       Good    3.0\n",
       "2  fruit    grapes      Yummy    3.0\n",
       "3  fruit     kiwis  Wonderful    4.0\n",
       "4  fruit  cherries  Fantastic    4.0"
      ]
     },
     "execution_count": 129,
     "metadata": {},
     "output_type": "execute_result"
    }
   ],
   "source": [
    "opinion_df.head()"
   ]
  },
  {
   "cell_type": "code",
   "execution_count": 130,
   "id": "7b46c3d1",
   "metadata": {},
   "outputs": [
    {
     "data": {
      "text/plain": [
       "39"
      ]
     },
     "execution_count": 130,
     "metadata": {},
     "output_type": "execute_result"
    }
   ],
   "source": [
    "len(opinion_df)"
   ]
  },
  {
   "cell_type": "markdown",
   "id": "a47f3dee",
   "metadata": {},
   "source": [
    "### Lets expore this data set"
   ]
  },
  {
   "cell_type": "code",
   "execution_count": 131,
   "id": "f06bbff0",
   "metadata": {},
   "outputs": [
    {
     "data": {
      "text/plain": [
       "1.205128205128205"
      ]
     },
     "execution_count": 131,
     "metadata": {},
     "output_type": "execute_result"
    }
   ],
   "source": [
    "opinion_df[\"Score\"].mean()"
   ]
  },
  {
   "cell_type": "code",
   "execution_count": 132,
   "id": "89028ed8",
   "metadata": {},
   "outputs": [
    {
     "data": {
      "text/plain": [
       "2.2731787062392"
      ]
     },
     "execution_count": 132,
     "metadata": {},
     "output_type": "execute_result"
    }
   ],
   "source": [
    "opinion_df[\"Score\"].std()"
   ]
  },
  {
   "cell_type": "code",
   "execution_count": 133,
   "id": "19f9d776",
   "metadata": {},
   "outputs": [
    {
     "data": {
      "text/plain": [
       "4.0"
      ]
     },
     "execution_count": 133,
     "metadata": {},
     "output_type": "execute_result"
    }
   ],
   "source": [
    "opinion_df[\"Score\"].max()"
   ]
  },
  {
   "cell_type": "code",
   "execution_count": 134,
   "id": "90dafc7f",
   "metadata": {},
   "outputs": [
    {
     "data": {
      "text/plain": [
       "-3.0"
      ]
     },
     "execution_count": 134,
     "metadata": {},
     "output_type": "execute_result"
    }
   ],
   "source": [
    "opinion_df[\"Score\"].min()"
   ]
  },
  {
   "cell_type": "code",
   "execution_count": 135,
   "id": "89b2ff8f",
   "metadata": {},
   "outputs": [
    {
     "data": {
      "text/plain": [
       "candy        10\n",
       "fruit         9\n",
       "vegitable     8\n",
       "meat          7\n",
       "bread         5\n",
       "Name: Group, dtype: int64"
      ]
     },
     "execution_count": 135,
     "metadata": {},
     "output_type": "execute_result"
    }
   ],
   "source": [
    "opinion_df[\"Group\"].value_counts()"
   ]
  },
  {
   "cell_type": "code",
   "execution_count": 136,
   "id": "85eb9f1a",
   "metadata": {},
   "outputs": [
    {
     "data": {
      "text/plain": [
       "1.8888888888888888"
      ]
     },
     "execution_count": 136,
     "metadata": {},
     "output_type": "execute_result"
    }
   ],
   "source": [
    "opinion_df[opinion_df[\"Group\"] == \"fruit\"][\"Score\"].mean()"
   ]
  },
  {
   "cell_type": "markdown",
   "id": "08d8fad5",
   "metadata": {},
   "source": [
    "### Now this tells us something interesting!... it tells us about our measured opinion about fruits, in general.  \n",
    "### How does this compare to the other groups?"
   ]
  },
  {
   "cell_type": "code",
   "execution_count": 137,
   "id": "ee9f49bc",
   "metadata": {},
   "outputs": [
    {
     "name": "stdout",
     "output_type": "stream",
     "text": [
      "['fruit' 'vegitable' 'bread' 'meat' 'candy']\n"
     ]
    }
   ],
   "source": [
    "import matplotlib.pyplot as plt\n",
    "\n",
    "mean_score = []\n",
    "groups = opinion_df.Group.unique()\n",
    "print(groups)"
   ]
  },
  {
   "cell_type": "code",
   "execution_count": 138,
   "id": "c805d3fe",
   "metadata": {},
   "outputs": [
    {
     "name": "stdout",
     "output_type": "stream",
     "text": [
      "[1.8888888888888888, 2.25, 2.0, 0.5714285714285714, -0.2]\n"
     ]
    }
   ],
   "source": [
    "for group in groups:\n",
    "    mean_score.append(opinion_df[opinion_df[\"Group\"] == group][\"Score\"].mean())\n",
    "    \n",
    "print(mean_score)"
   ]
  },
  {
   "cell_type": "code",
   "execution_count": 139,
   "id": "8bd1576e",
   "metadata": {},
   "outputs": [
    {
     "data": {
      "image/png": "[encoded data removed]",
      "text/plain": [
       "<Figure size 432x288 with 1 Axes>"
      ]
     },
     "metadata": {
      "needs_background": "light"
     },
     "output_type": "display_data"
    }
   ],
   "source": [
    "plt.bar(groups,mean_score)\n",
    "plt.xticks(rotation=0)\n",
    "plt.ylabel('Mean Score')\n",
    "plt.title('Average Opinion of Surveyed Foods')\n",
    "\n",
    "plt.show()"
   ]
  },
  {
   "cell_type": "markdown",
   "id": "c7e601b5",
   "metadata": {},
   "source": [
    "## If we want, we can get fancy with Seaborn"
   ]
  },
  {
   "cell_type": "code",
   "execution_count": 162,
   "id": "ea99a2f3",
   "metadata": {},
   "outputs": [
    {
     "data": {
      "image/png": "[encoded data removed]",
      "text/plain": [
       "<Figure size 432x288 with 1 Axes>"
      ]
     },
     "metadata": {},
     "output_type": "display_data"
    }
   ],
   "source": [
    "import seaborn as sns\n",
    "sns.set_theme(style=\"darkgrid\", palette=\"Set1\")\n",
    "ax = sns.barplot(x=\"Group\", y=\"Score\", data=opinion_df)\n",
    "ax.set(xlabel=None, ylabel='Mean Score', title='Average Opinion of Surveyed Foods')\n",
    "\n",
    "plt.show()"
   ]
  },
  {
   "cell_type": "code",
   "execution_count": null,
   "id": "e46f18c8",
   "metadata": {},
   "outputs": [],
   "source": []
  }
 ],
 "metadata": {
  "kernelspec": {
   "display_name": "Python 3",
   "language": "python",
   "name": "python3"
  },
  "language_info": {
   "codemirror_mode": {
    "name": "ipython",
    "version": 3
   },
   "file_extension": ".py",
   "mimetype": "text/x-python",
   "name": "python",
   "nbconvert_exporter": "python",
   "pygments_lexer": "ipython3",
   "version": "3.8.5"
  }
 },
 "nbformat": 4,
 "nbformat_minor": 5
}
